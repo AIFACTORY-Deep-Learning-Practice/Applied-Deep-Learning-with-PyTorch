{
 "cells": [
  {
   "cell_type": "code",
   "execution_count": 1,
   "metadata": {},
   "outputs": [],
   "source": [
    "import torch\n",
    "import torch.nn as nn\n",
    "import matplotlib.pyplot as plt"
   ]
  },
  {
   "cell_type": "code",
   "execution_count": 2,
   "metadata": {},
   "outputs": [
    {
     "data": {
      "text/plain": [
       "<torch._C.Generator at 0x195fbc61cb0>"
      ]
     },
     "execution_count": 2,
     "metadata": {},
     "output_type": "execute_result"
    }
   ],
   "source": [
    "torch.manual_seed(0)"
   ]
  },
  {
   "cell_type": "code",
   "execution_count": 3,
   "metadata": {},
   "outputs": [],
   "source": [
    "x = torch.randn(100,5)\n",
    "y = torch.randint(0,2, (100,1)).type(torch.FloatTensor)"
   ]
  },
  {
   "cell_type": "code",
   "execution_count": 4,
   "metadata": {},
   "outputs": [],
   "source": [
    "model = nn.Sequential(nn.Linear(5, 1),\n",
    "                      nn.Sigmoid())"
   ]
  },
  {
   "cell_type": "code",
   "execution_count": 5,
   "metadata": {},
   "outputs": [],
   "source": [
    "loss_function = torch.nn.MSELoss()"
   ]
  },
  {
   "cell_type": "code",
   "execution_count": 6,
   "metadata": {},
   "outputs": [],
   "source": [
    "optimizer = torch.optim.Adam(model.parameters(), lr=0.01)"
   ]
  },
  {
   "cell_type": "code",
   "execution_count": 7,
   "metadata": {},
   "outputs": [
    {
     "name": "stdout",
     "output_type": "stream",
     "text": [
      "0.2757141590118408\n",
      "0.2743781805038452\n",
      "0.2730804979801178\n",
      "0.2718224823474884\n",
      "0.2706049084663391\n",
      "0.26942723989486694\n",
      "0.2682875394821167\n",
      "0.26718199253082275\n",
      "0.2661054730415344\n",
      "0.2650523781776428\n",
      "0.2640177309513092\n",
      "0.2629983127117157\n",
      "0.2619926631450653\n",
      "0.26100096106529236\n",
      "0.2600243389606476\n",
      "0.25906461477279663\n",
      "0.25812381505966187\n",
      "0.2572040557861328\n",
      "0.2563075125217438\n",
      "0.2554360628128052\n",
      "0.25459152460098267\n",
      "0.25377538800239563\n",
      "0.25298869609832764\n",
      "0.25223204493522644\n",
      "0.2515055239200592\n",
      "0.2508088946342468\n",
      "0.25014159083366394\n",
      "0.24950291216373444\n",
      "0.24889206886291504\n",
      "0.24830810725688934\n",
      "0.24775011837482452\n",
      "0.2472170889377594\n",
      "0.24670813977718353\n",
      "0.24622248113155365\n",
      "0.24575942754745483\n",
      "0.24531841278076172\n",
      "0.24489888548851013\n",
      "0.2445002794265747\n",
      "0.24412205815315247\n",
      "0.24376362562179565\n",
      "0.2434244304895401\n",
      "0.24310381710529327\n",
      "0.24280114471912384\n",
      "0.24251562356948853\n",
      "0.24224646389484406\n",
      "0.2419928014278412\n",
      "0.24175381660461426\n",
      "0.2415287047624588\n",
      "0.2413167655467987\n",
      "0.24111729860305786\n",
      "0.2409297227859497\n",
      "0.24075347185134888\n",
      "0.24058805406093597\n",
      "0.2404329925775528\n",
      "0.24028781056404114\n",
      "0.2401520311832428\n",
      "0.2400251179933548\n",
      "0.23990651965141296\n",
      "0.2397957295179367\n",
      "0.23969224095344543\n",
      "0.23959551751613617\n",
      "0.2395051121711731\n",
      "0.2394205629825592\n",
      "0.23934148252010345\n",
      "0.2392675131559372\n",
      "0.23919828236103058\n",
      "0.23913350701332092\n",
      "0.23907285928726196\n",
      "0.2390161156654358\n",
      "0.23896297812461853\n",
      "0.23891325294971466\n",
      "0.2388666719198227\n",
      "0.2388230711221695\n",
      "0.23878224194049835\n",
      "0.23874399065971375\n",
      "0.23870815336704254\n",
      "0.2386745810508728\n",
      "0.2386431246995926\n",
      "0.23861366510391235\n",
      "0.23858609795570374\n",
      "0.23856031894683838\n",
      "0.23853623867034912\n",
      "0.23851378262043\n",
      "0.23849286139011383\n",
      "0.23847340047359467\n",
      "0.23845532536506653\n",
      "0.23843853175640106\n",
      "0.23842298984527588\n",
      "0.23840859532356262\n",
      "0.2383953034877777\n",
      "0.23838302493095398\n",
      "0.23837172985076904\n",
      "0.23836132884025574\n",
      "0.23835177719593048\n",
      "0.2383430302143097\n",
      "0.2383350282907486\n",
      "0.23832771182060242\n",
      "0.23832105100154877\n",
      "0.23831498622894287\n",
      "0.23830945789813995\n"
     ]
    }
   ],
   "source": [
    "losses = []\n",
    "for i in range(100):\n",
    "    y_pred = model(x)\n",
    "    loss = loss_function(y_pred, y)\n",
    "    print(loss.item())\n",
    "    losses.append(loss.item())\n",
    "    optimizer.zero_grad()\n",
    "    loss.backward()\n",
    "    optimizer.step()"
   ]
  },
  {
   "cell_type": "code",
   "execution_count": 8,
   "metadata": {},
   "outputs": [
    {
     "data": {
      "text/plain": [
       "OrderedDict([('0.weight',\n",
       "              tensor([[ 0.2897, -0.2024, -0.2740, -0.0462, -0.1382]])),\n",
       "             ('0.bias', tensor([0.0596]))])"
      ]
     },
     "execution_count": 8,
     "metadata": {},
     "output_type": "execute_result"
    }
   ],
   "source": [
    "model.state_dict()"
   ]
  },
  {
   "cell_type": "code",
   "execution_count": 9,
   "metadata": {},
   "outputs": [
    {
     "data": {
      "image/png": "[encoded data removed]",
      "text/plain": [
       "<Figure size 432x288 with 1 Axes>"
      ]
     },
     "metadata": {
      "needs_background": "light"
     },
     "output_type": "display_data"
    }
   ],
   "source": [
    "plt.plot(range(0,100), losses)\n",
    "plt.show()"
   ]
  },
  {
   "cell_type": "code",
   "execution_count": null,
   "metadata": {},
   "outputs": [],
   "source": []
  }
 ],
 "metadata": {
  "kernelspec": {
   "display_name": "Python 3",
   "language": "python",
   "name": "python3"
  },
  "language_info": {
   "codemirror_mode": {
    "name": "ipython",
    "version": 3
   },
   "file_extension": ".py",
   "mimetype": "text/x-python",
   "name": "python",
   "nbconvert_exporter": "python",
   "pygments_lexer": "ipython3",
   "version": "3.6.8"
  }
 },
 "nbformat": 4,
 "nbformat_minor": 2
}
