{
 "cells": [
  {
   "cell_type": "code",
   "execution_count": 1,
   "metadata": {},
   "outputs": [],
   "source": [
    "import math\n",
    "import numpy as np\n",
    "import matplotlib.pyplot as plt\n",
    "import torch\n",
    "from torch import nn, optim\n",
    "import torch.nn.functional as F"
   ]
  },
  {
   "cell_type": "code",
   "execution_count": 2,
   "metadata": {},
   "outputs": [
    {
     "name": "stdout",
     "output_type": "stream",
     "text": [
      "Extract:  ALICE was beginning to get very tired of sitting b\n",
      "Length:  145178\n"
     ]
    }
   ],
   "source": [
    "with open('alice.txt', 'r', encoding='latin1') as f:\n",
    "    data = f.read()\n",
    "    \n",
    "print(\"Extract: \", data[:50])\n",
    "print(\"Length: \", len(data))"
   ]
  },
  {
   "cell_type": "code",
   "execution_count": 3,
   "metadata": {},
   "outputs": [],
   "source": [
    "chars = list(set(data))\n",
    "indexer = {char: index for (index, char) in enumerate(chars)}"
   ]
  },
  {
   "cell_type": "code",
   "execution_count": 4,
   "metadata": {},
   "outputs": [
    {
     "name": "stdout",
     "output_type": "stream",
     "text": [
      "Indexed extract:  [63, 32, 22, 37, 69, 2, 56, 19, 43, 2, 5, 15, 60, 35, 38, 38, 35, 38, 60, 2, 39, 24, 2, 60, 15, 39, 2, 12, 15, 8, 1, 2, 39, 35, 8, 15, 23, 2, 24, 62, 2, 43, 35, 39, 39, 35, 38, 60, 2, 5]\n",
      "Length:  145178\n"
     ]
    }
   ],
   "source": [
    "indexed_data = []\n",
    "for c in data:\n",
    "    indexed_data.append(indexer[c])\n",
    "    \n",
    "print(\"Indexed extract: \", indexed_data[:50])\n",
    "print(\"Length: \", len(indexed_data))"
   ]
  },
  {
   "cell_type": "code",
   "execution_count": 5,
   "metadata": {},
   "outputs": [],
   "source": [
    "def index2onehot(batch):\n",
    "    \n",
    "    batch_flatten = batch.flatten()\n",
    "    onehot_flat = np.zeros((batch.shape[0] * batch.shape[1], len(indexer)))\n",
    "    onehot_flat[range(len(batch_flatten)), batch_flatten] = 1\n",
    "    onehot = onehot_flat.reshape((batch.shape[0], batch.shape[1], -1))\n",
    "    \n",
    "    return onehot"
   ]
  },
  {
   "cell_type": "code",
   "execution_count": 6,
   "metadata": {},
   "outputs": [],
   "source": [
    "class LSTM(nn.Module):\n",
    "    def __init__(self, char_length, hidden_size, n_layers):\n",
    "        super().__init__()\n",
    "        self.hidden_size = hidden_size\n",
    "        self.n_layers = n_layers\n",
    "        self.lstm = nn.LSTM(char_length, hidden_size, n_layers, batch_first=True)\n",
    "        self.output = nn.Linear(hidden_size, char_length)\n",
    "        \n",
    "    def forward(self, x, states):\n",
    "        out, states = self.lstm(x, states)\n",
    "        out = out.contiguous().view(-1, self.hidden_size)\n",
    "        out = self.output(out)\n",
    "        \n",
    "        return out, states\n",
    "    \n",
    "    def init_states(self, batch_size):\n",
    "        hidden = next(self.parameters()).data.new(self.n_layers, batch_size, self.hidden_size).zero_()\n",
    "        cell = next(self.parameters()).data.new(self.n_layers, batch_size, self.hidden_size).zero_()\n",
    "        states = (hidden, cell)\n",
    "        \n",
    "        return states "
   ]
  },
  {
   "cell_type": "code",
   "execution_count": 7,
   "metadata": {},
   "outputs": [],
   "source": [
    "n_seq = 100 ## Number of sequences per batch\n",
    "seq_length =  50\n",
    "n_batches = math.floor(len(indexed_data) / n_seq / seq_length)\n",
    "\n",
    "total_length = n_seq * seq_length * n_batches\n",
    "x = indexed_data[:total_length]\n",
    "x = np.array(x).reshape((n_seq,-1))"
   ]
  },
  {
   "cell_type": "code",
   "execution_count": 8,
   "metadata": {},
   "outputs": [
    {
     "data": {
      "text/plain": [
       "LSTM(\n",
       "  (lstm): LSTM(70, 256, num_layers=2, batch_first=True)\n",
       "  (output): Linear(in_features=256, out_features=70, bias=True)\n",
       ")"
      ]
     },
     "execution_count": 8,
     "metadata": {},
     "output_type": "execute_result"
    }
   ],
   "source": [
    "model = LSTM(len(chars), 256, 2)\n",
    "model"
   ]
  },
  {
   "cell_type": "code",
   "execution_count": 9,
   "metadata": {},
   "outputs": [],
   "source": [
    "loss_function = nn.CrossEntropyLoss()\n",
    "optimizer = optim.Adam(model.parameters(), lr=0.001)\n",
    "epochs = 20"
   ]
  },
  {
   "cell_type": "code",
   "execution_count": 10,
   "metadata": {},
   "outputs": [
    {
     "name": "stdout",
     "output_type": "stream",
     "text": [
      "epoch:  1 ... Loss function:  3.450181714419661\n",
      "epoch:  2 ... Loss function:  3.167477410415123\n",
      "epoch:  3 ... Loss function:  3.1628282892292945\n",
      "epoch:  4 ... Loss function:  3.153110347945115\n",
      "epoch:  5 ... Loss function:  3.0912397647726126\n",
      "epoch:  6 ... Loss function:  2.880558466089183\n",
      "epoch:  7 ... Loss function:  2.6486914240080734\n",
      "epoch:  8 ... Loss function:  2.501002920084986\n",
      "epoch:  9 ... Loss function:  2.4115809161087562\n",
      "epoch:  10 ... Loss function:  2.338390827178955\n",
      "epoch:  11 ... Loss function:  2.267730351152091\n",
      "epoch:  12 ... Loss function:  2.206300275079135\n",
      "epoch:  13 ... Loss function:  2.1507338819832635\n",
      "epoch:  14 ... Loss function:  2.100295354580057\n",
      "epoch:  15 ... Loss function:  2.0537281899616637\n",
      "epoch:  16 ... Loss function:  2.0121903008428115\n",
      "epoch:  17 ... Loss function:  1.9732320020938743\n",
      "epoch:  18 ... Loss function:  1.9361771386245201\n",
      "epoch:  19 ... Loss function:  1.9012044997050845\n",
      "epoch:  20 ... Loss function:  1.8682923358062218\n"
     ]
    }
   ],
   "source": [
    "losses = []\n",
    "for e in range(1, epochs+1):\n",
    "    states = model.init_states(n_seq)\n",
    "    batch_loss = []\n",
    "    \n",
    "    for b in range(0, x.shape[1], seq_length):\n",
    "        x_batch = x[:,b:b+seq_length]\n",
    "        \n",
    "        if b == x.shape[1] - seq_length:\n",
    "            y_batch = x[:,b+1:b+seq_length]\n",
    "            y_batch = np.hstack((y_batch, indexer[\".\"] * np.ones((y_batch.shape[0],1))))\n",
    "        else:\n",
    "            y_batch = x[:,b+1:b+seq_length+1]\n",
    "        \n",
    "        x_onehot = torch.Tensor(index2onehot(x_batch))\n",
    "        y = torch.Tensor(y_batch).view(n_seq * seq_length)\n",
    "        \n",
    "        pred, states = model(x_onehot, states)\n",
    "        loss = loss_function(pred, y.long())\n",
    "        optimizer.zero_grad()\n",
    "        loss.backward(retain_graph=True)\n",
    "        optimizer.step()\n",
    "        \n",
    "        batch_loss.append(loss.item())\n",
    "        \n",
    "    losses.append(np.mean(batch_loss))\n",
    "    \n",
    "    if e%1 == 0:\n",
    "        print(\"epoch: \", e, \"... Loss function: \", losses[-1])"
   ]
  },
  {
   "cell_type": "code",
   "execution_count": 11,
   "metadata": {},
   "outputs": [
    {
     "data": {
      "image/png": "[encoded data removed]",
      "text/plain": [
       "<Figure size 432x288 with 1 Axes>"
      ]
     },
     "metadata": {
      "needs_background": "light"
     },
     "output_type": "display_data"
    }
   ],
   "source": [
    "x_range = range(len(losses))\n",
    "plt.plot(x_range, losses)\n",
    "plt.xlabel(\"epochs\")\n",
    "plt.ylabel(\"Loss function\")\n",
    "plt.show()"
   ]
  },
  {
   "cell_type": "code",
   "execution_count": 13,
   "metadata": {},
   "outputs": [
    {
     "name": "stdout",
     "output_type": "stream",
     "text": [
      "So she was considering in her own mind of would the cace to she tount ang to ges seokn.\n"
     ]
    }
   ],
   "source": [
    "starter = \"So she was considering in her own mind \"\n",
    "states = None\n",
    "for ch in starter:\n",
    "    x = np.array([[indexer[ch]]])\n",
    "    x = index2onehot(x)\n",
    "    x = torch.Tensor(x)\n",
    "    \n",
    "    pred, states = model(x, states)\n",
    "\n",
    "counter = 0\n",
    "while starter[-1] != \".\" and counter < 50:\n",
    "    counter += 1\n",
    "    x = np.array([[indexer[starter[-1]]]])\n",
    "    x = index2onehot(x)\n",
    "    x = torch.Tensor(x)\n",
    "    \n",
    "    pred, states = model(x, states)\n",
    "    pred = F.softmax(pred, dim=1)\n",
    "    p, top = pred.topk(10)\n",
    "    p = p.detach().numpy()[0]\n",
    "    top = top.numpy()[0]\n",
    "    index = np.random.choice(top, p=p/p.sum())\n",
    "    \n",
    "    starter += chars[index]\n",
    "print(starter)"
   ]
  },
  {
   "cell_type": "code",
   "execution_count": null,
   "metadata": {},
   "outputs": [],
   "source": []
  }
 ],
 "metadata": {
  "kernelspec": {
   "display_name": "Python 3",
   "language": "python",
   "name": "python3"
  },
  "language_info": {
   "codemirror_mode": {
    "name": "ipython",
    "version": 3
   },
   "file_extension": ".py",
   "mimetype": "text/x-python",
   "name": "python",
   "nbconvert_exporter": "python",
   "pygments_lexer": "ipython3",
   "version": "3.6.7"
  }
 },
 "nbformat": 4,
 "nbformat_minor": 2
}
