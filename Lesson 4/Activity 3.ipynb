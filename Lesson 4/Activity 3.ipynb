{
 "cells": [
  {
   "cell_type": "code",
   "execution_count": 1,
   "metadata": {},
   "outputs": [
    {
     "data": {
      "text/plain": [
       "<torch._C.Generator at 0x1e7b72dbcd0>"
      ]
     },
     "execution_count": 1,
     "metadata": {},
     "output_type": "execute_result"
    }
   ],
   "source": [
    "import numpy as np\n",
    "import torch\n",
    "import torch.nn as nn\n",
    "import torch.nn.functional as F\n",
    "import torch.optim as optim\n",
    "from torchvision import datasets\n",
    "import torchvision.transforms as transforms\n",
    "from torch.utils.data.sampler import SubsetRandomSampler\n",
    "from sklearn.metrics import accuracy_score\n",
    "import matplotlib.pyplot as plt\n",
    "torch.manual_seed(0)"
   ]
  },
  {
   "cell_type": "code",
   "execution_count": 2,
   "metadata": {},
   "outputs": [],
   "source": [
    "# convert data to a normalized torch.FloatTensor\n",
    "transform = {\n",
    "    \"train\": transforms.Compose([\n",
    "        transforms.RandomHorizontalFlip(0.5), \n",
    "        transforms.RandomGrayscale(0.1),\n",
    "        transforms.ToTensor(),\n",
    "        transforms.Normalize((0.5, 0.5, 0.5), (0.5, 0.5, 0.5))]),\n",
    "    \"test\": transforms.Compose([\n",
    "        transforms.ToTensor(),\n",
    "        transforms.Normalize((0.5, 0.5, 0.5), (0.5, 0.5, 0.5))])}"
   ]
  },
  {
   "cell_type": "code",
   "execution_count": 3,
   "metadata": {},
   "outputs": [
    {
     "name": "stdout",
     "output_type": "stream",
     "text": [
      "Downloading https://www.cs.toronto.edu/~kriz/cifar-10-python.tar.gz to data3\\cifar-10-python.tar.gz\n",
      "Files already downloaded and verified\n"
     ]
    }
   ],
   "source": [
    "# how many samples per batch to load\n",
    "batch_size = 100\n",
    "\n",
    "# choose the training and test datasets\n",
    "train_data = datasets.CIFAR10('data3', train=True, download=True, transform=transform[\"train\"])\n",
    "test_data = datasets.CIFAR10('data3', train=False, download=True, transform=transform[\"test\"])"
   ]
  },
  {
   "cell_type": "code",
   "execution_count": 4,
   "metadata": {},
   "outputs": [],
   "source": [
    "# percentage of training set to use as validation\n",
    "valid_size = 0.2\n",
    "\n",
    "# obtain training indices that will be used for validation\n",
    "training_examples = len(train_data)\n",
    "indices = list(range(training_examples))\n",
    "np.random.shuffle(indices)\n",
    "split = int(np.floor(valid_size * training_examples))\n",
    "train_idx, valid_idx = indices[split:], indices[:split]\n",
    "\n",
    "# define samplers for obtaining training and validation batches\n",
    "train_sampler = SubsetRandomSampler(train_idx)\n",
    "valid_sampler = SubsetRandomSampler(valid_idx)"
   ]
  },
  {
   "cell_type": "code",
   "execution_count": 5,
   "metadata": {},
   "outputs": [],
   "source": [
    "# prepare data loaders (combine dataset and sampler)\n",
    "train_loader = torch.utils.data.DataLoader(train_data, batch_size=batch_size, sampler=train_sampler)\n",
    "valid_loader = torch.utils.data.DataLoader(train_data, batch_size=batch_size, sampler=valid_sampler)\n",
    "test_loader = torch.utils.data.DataLoader(test_data, batch_size=batch_size)"
   ]
  },
  {
   "cell_type": "code",
   "execution_count": 9,
   "metadata": {},
   "outputs": [],
   "source": [
    "# define the CNN architecture\n",
    "class Net(nn.Module):\n",
    "    def __init__(self):\n",
    "        super(Net, self).__init__()\n",
    "        # convolutional layer (sees 32x32x3 image tensor)\n",
    "        self.conv1 = nn.Conv2d(3, 16, 3, 1, 1)\n",
    "        # Batch normalization\n",
    "        self.norm1 = nn.BatchNorm2d(16)\n",
    "        # convolutional layer (sees 16x16x16 tensor)\n",
    "        self.conv2 = nn.Conv2d(16, 32, 3, 1, 1)\n",
    "        # Batch normalization\n",
    "        self.norm2 = nn.BatchNorm2d(32)\n",
    "        # convolutional layer (sees 8x8x32 tensor)\n",
    "        self.conv3 = nn.Conv2d(32, 64, 3, 1, 1)\n",
    "        # Batch normalization\n",
    "        self.norm3 = nn.BatchNorm2d(64)\n",
    "        # max pooling layer\n",
    "        self.pool = nn.MaxPool2d(2, 2)\n",
    "        # linear layer (64 * 4 * 4 -> 500)\n",
    "        self.fc1 = nn.Linear(64 * 4 * 4, 500)\n",
    "        # Batch normalization\n",
    "        self.norm4 = nn.BatchNorm1d(500)\n",
    "        # linear layer (500 -> 10)\n",
    "        self.fc2 = nn.Linear(500, 10)\n",
    "        # dropout layer (p=0.25)\n",
    "        self.dropout = nn.Dropout(0.20)\n",
    "\n",
    "    def forward(self, x):\n",
    "        # add sequence of convolutional and max pooling layers\n",
    "        x = self.pool(self.norm1(F.relu(self.conv1(x))))\n",
    "        x = self.pool(self.norm2(F.relu(self.conv2(x))))\n",
    "        x = self.pool(self.norm3(F.relu(self.conv3(x))))\n",
    "        # flatten image input\n",
    "        x = x.view(-1, 64 * 4 * 4)\n",
    "        # add dropout layer\n",
    "        x = self.dropout(x)\n",
    "        # add 1st hidden layer, with relu activation function\n",
    "        x = self.norm4(F.relu(self.fc1(x)))\n",
    "        # add dropout layer\n",
    "        x = self.dropout(x)\n",
    "        # add 2nd hidden layer, with relu activation function\n",
    "        x = F.log_softmax(self.fc2(x), dim=1)\n",
    "        return x"
   ]
  },
  {
   "cell_type": "code",
   "execution_count": 10,
   "metadata": {},
   "outputs": [],
   "source": [
    "# create a complete CNN\n",
    "model = Net()\n",
    "\n",
    "# specify loss function (categorical cross-entropy)\n",
    "criterion = nn.NLLLoss()\n",
    "\n",
    "# specify optimizer\n",
    "optimizer = optim.SGD(model.parameters(), lr=0.01)\n",
    "\n",
    "# number of epochs to train the model\n",
    "epochs = 100"
   ]
  },
  {
   "cell_type": "code",
   "execution_count": 11,
   "metadata": {},
   "outputs": [
    {
     "name": "stdout",
     "output_type": "stream",
     "text": [
      "Epoch: 1/100..  Training Loss: 1.631..  Validation Loss: 1.374..  Training Accuracy: 0.417..  Validation Accuracy: 0.525\n",
      "Epoch: 5/100..  Training Loss: 1.041..  Validation Loss: 1.019..  Training Accuracy: 0.633..  Validation Accuracy: 0.633\n",
      "Epoch: 10/100..  Training Loss: 0.866..  Validation Loss: 0.837..  Training Accuracy: 0.696..  Validation Accuracy: 0.709\n",
      "Epoch: 15/100..  Training Loss: 0.773..  Validation Loss: 0.780..  Training Accuracy: 0.728..  Validation Accuracy: 0.729\n",
      "Epoch: 20/100..  Training Loss: 0.699..  Validation Loss: 0.726..  Training Accuracy: 0.755..  Validation Accuracy: 0.745\n",
      "Epoch: 25/100..  Training Loss: 0.646..  Validation Loss: 0.704..  Training Accuracy: 0.774..  Validation Accuracy: 0.753\n",
      "Epoch: 30/100..  Training Loss: 0.600..  Validation Loss: 0.649..  Training Accuracy: 0.790..  Validation Accuracy: 0.771\n",
      "Epoch: 35/100..  Training Loss: 0.560..  Validation Loss: 0.641..  Training Accuracy: 0.803..  Validation Accuracy: 0.776\n",
      "Epoch: 40/100..  Training Loss: 0.522..  Validation Loss: 0.640..  Training Accuracy: 0.818..  Validation Accuracy: 0.775\n",
      "Epoch: 45/100..  Training Loss: 0.489..  Validation Loss: 0.612..  Training Accuracy: 0.830..  Validation Accuracy: 0.786\n",
      "Epoch: 50/100..  Training Loss: 0.462..  Validation Loss: 0.610..  Training Accuracy: 0.838..  Validation Accuracy: 0.785\n",
      "Epoch: 55/100..  Training Loss: 0.434..  Validation Loss: 0.620..  Training Accuracy: 0.848..  Validation Accuracy: 0.781\n",
      "Epoch: 60/100..  Training Loss: 0.406..  Validation Loss: 0.607..  Training Accuracy: 0.858..  Validation Accuracy: 0.789\n",
      "Epoch: 65/100..  Training Loss: 0.396..  Validation Loss: 0.603..  Training Accuracy: 0.863..  Validation Accuracy: 0.788\n",
      "Epoch: 70/100..  Training Loss: 0.376..  Validation Loss: 0.587..  Training Accuracy: 0.869..  Validation Accuracy: 0.794\n",
      "Epoch: 75/100..  Training Loss: 0.353..  Validation Loss: 0.612..  Training Accuracy: 0.878..  Validation Accuracy: 0.789\n",
      "Epoch: 80/100..  Training Loss: 0.334..  Validation Loss: 0.616..  Training Accuracy: 0.884..  Validation Accuracy: 0.790\n",
      "Epoch: 85/100..  Training Loss: 0.324..  Validation Loss: 0.614..  Training Accuracy: 0.887..  Validation Accuracy: 0.790\n",
      "Epoch: 90/100..  Training Loss: 0.305..  Validation Loss: 0.620..  Training Accuracy: 0.894..  Validation Accuracy: 0.795\n",
      "Epoch: 95/100..  Training Loss: 0.294..  Validation Loss: 0.612..  Training Accuracy: 0.897..  Validation Accuracy: 0.795\n",
      "Epoch: 100/100..  Training Loss: 0.279..  Validation Loss: 0.622..  Training Accuracy: 0.904..  Validation Accuracy: 0.794\n"
     ]
    }
   ],
   "source": [
    "train_losses, dev_losses, train_acc, dev_acc= [], [], [], []\n",
    "x_axis = []\n",
    "\n",
    "for e in range(1, epochs+1):\n",
    "    running_loss = 0\n",
    "    running_acc = 0\n",
    "    iterations = 0\n",
    "    \n",
    "    model.train()\n",
    "    for data, target in train_loader:\n",
    "        iterations += 1\n",
    "\n",
    "        log_ps = model(data)\n",
    "        loss = criterion(log_ps, target)\n",
    "        optimizer.zero_grad()\n",
    "        loss.backward()\n",
    "        optimizer.step()\n",
    "        \n",
    "        running_loss += loss.item()\n",
    "        ps = torch.exp(log_ps)\n",
    "        top_p, top_class = ps.topk(1, dim=1)\n",
    "        running_acc += accuracy_score(target, top_class)\n",
    "        \n",
    "    dev_running_loss = 0\n",
    "    acc = 0\n",
    "    iter_2 = 0\n",
    "        \n",
    "    if e%5 == 0 or e == 1:\n",
    "        x_axis.append(e)\n",
    "        \n",
    "        # Turn off gradients for validation, saves memory and computations\n",
    "        with torch.no_grad():\n",
    "            model.eval()\n",
    "            for data_dev, target_dev in valid_loader:\n",
    "                iter_2 += 1\n",
    "                log_dev = model(data_dev)\n",
    "                dev_loss = criterion(log_dev, target_dev)\n",
    "                dev_running_loss += dev_loss.item()\n",
    "\n",
    "                ps_dev = torch.exp(log_dev)\n",
    "                top_p, top_class_dev = ps_dev.topk(1, dim=1)\n",
    "                acc += accuracy_score(target_dev, top_class_dev)\n",
    "        \n",
    "        train_losses.append(running_loss/iterations)\n",
    "        dev_losses.append(dev_running_loss/iter_2)\n",
    "        train_acc.append(running_acc/iterations)\n",
    "        dev_acc.append(acc/iter_2)\n",
    "        \n",
    "        print(\"Epoch: {}/{}.. \".format(e, epochs),\n",
    "              \"Training Loss: {:.3f}.. \".format(running_loss/iterations),\n",
    "              \"Validation Loss: {:.3f}.. \".format(dev_running_loss/iter_2),\n",
    "              \"Training Accuracy: {:.3f}.. \".format(running_acc/iterations),\n",
    "              \"Validation Accuracy: {:.3f}\".format(acc/iter_2))"
   ]
  },
  {
   "cell_type": "code",
   "execution_count": 12,
   "metadata": {},
   "outputs": [
    {
     "data": {
      "image/png": "[encoded data removed]",
      "text/plain": [
       "<Figure size 432x288 with 1 Axes>"
      ]
     },
     "metadata": {
      "needs_background": "light"
     },
     "output_type": "display_data"
    }
   ],
   "source": [
    "plt.plot(x_axis,train_losses, label='Training loss')\n",
    "plt.plot(x_axis, dev_losses, label='Validation loss')\n",
    "plt.legend(frameon=False)\n",
    "plt.show()"
   ]
  },
  {
   "cell_type": "code",
   "execution_count": 13,
   "metadata": {},
   "outputs": [
    {
     "data": {
      "image/png": "[encoded data removed]",
      "text/plain": [
       "<Figure size 432x288 with 1 Axes>"
      ]
     },
     "metadata": {
      "needs_background": "light"
     },
     "output_type": "display_data"
    }
   ],
   "source": [
    "plt.plot(x_axis, train_acc, label=\"Training accuracy\")\n",
    "plt.plot(x_axis, dev_acc, label=\"Validation accuracy\")\n",
    "plt.legend(frameon=False)\n",
    "plt.show()"
   ]
  },
  {
   "cell_type": "code",
   "execution_count": 14,
   "metadata": {},
   "outputs": [
    {
     "name": "stdout",
     "output_type": "stream",
     "text": [
      "0.8011999999999999\n"
     ]
    }
   ],
   "source": [
    "model.eval()\n",
    "iter_3 = 0\n",
    "acc_test = 0\n",
    "for data_test, target_test in test_loader:\n",
    "    iter_3 += 1\n",
    "    test_pred = model(data_test)\n",
    "    test_pred = torch.exp(test_pred)\n",
    "    top_p, top_class_test = test_pred.topk(1, dim=1)\n",
    "    acc_test += accuracy_score(target_test, top_class_test)\n",
    "print(acc_test/iter_3)"
   ]
  },
  {
   "cell_type": "code",
   "execution_count": null,
   "metadata": {},
   "outputs": [],
   "source": []
  }
 ],
 "metadata": {
  "kernelspec": {
   "display_name": "Python 3",
   "language": "python",
   "name": "python3"
  },
  "language_info": {
   "codemirror_mode": {
    "name": "ipython",
    "version": 3
   },
   "file_extension": ".py",
   "mimetype": "text/x-python",
   "name": "python",
   "nbconvert_exporter": "python",
   "pygments_lexer": "ipython3",
   "version": "3.6.8"
  }
 },
 "nbformat": 4,
 "nbformat_minor": 2
}
